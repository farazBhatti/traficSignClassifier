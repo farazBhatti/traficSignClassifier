{
 "cells": [
  {
   "cell_type": "code",
   "execution_count": 1,
   "id": "241f748f",
   "metadata": {},
   "outputs": [],
   "source": [
    "from keras.preprocessing.image import ImageDataGenerator\n",
    "from sklearn.neural_network import MLPClassifier\n",
    "from keras.models import Sequential\n",
    "from keras.layers import Dense, Flatten"
   ]
  },
  {
   "cell_type": "code",
   "execution_count": 2,
   "id": "630ce7a3",
   "metadata": {},
   "outputs": [],
   "source": [
    "train_datagen = ImageDataGenerator(\n",
    "        rotation_range=40,\n",
    "        width_shift_range=0.2,\n",
    "        height_shift_range=0.2,\n",
    "        rescale=1./255,\n",
    "        shear_range=0.2,\n",
    "        zoom_range=0.2,\n",
    "        horizontal_flip=True,\n",
    "        fill_mode='nearest')"
   ]
  },
  {
   "cell_type": "code",
   "execution_count": 4,
   "id": "d450ed42",
   "metadata": {},
   "outputs": [
    {
     "name": "stdout",
     "output_type": "stream",
     "text": [
      "Found 800 images belonging to 10 classes.\n",
      "Found 200 images belonging to 10 classes.\n"
     ]
    }
   ],
   "source": [
    "test_datagen = ImageDataGenerator(rescale=1./255)\n",
    "\n",
    "\n",
    "\n",
    "train_generator = train_datagen.flow_from_directory(\n",
    "        'dataset/train',  # this is the target directory\n",
    "        target_size=(150, 150),  # all images will be resized to 150x150\n",
    "        color_mode= \"grayscale\",\n",
    "        batch_size=32,\n",
    "        class_mode='categorical')  # since we use binary_crossentropy loss, we need binary labels\n",
    "\n",
    "# this is a similar generator, for validation data\n",
    "test_generator = test_datagen.flow_from_directory(\n",
    "        'dataset/test',\n",
    "        target_size=(150, 150),\n",
    "        color_mode= \"grayscale\",\n",
    "        batch_size=32,\n",
    "        class_mode='categorical')\n"
   ]
  },
  {
   "cell_type": "code",
   "execution_count": 5,
   "id": "099669b5",
   "metadata": {},
   "outputs": [
    {
     "name": "stdout",
     "output_type": "stream",
     "text": [
      "Model: \"sequential\"\n",
      "_________________________________________________________________\n",
      "Layer (type)                 Output Shape              Param #   \n",
      "=================================================================\n",
      "flatten (Flatten)            (None, 22500)             0         \n",
      "_________________________________________________________________\n",
      "dense (Dense)                (None, 150)               3375150   \n",
      "_________________________________________________________________\n",
      "dense_1 (Dense)              (None, 150)               22650     \n",
      "_________________________________________________________________\n",
      "dense_2 (Dense)              (None, 150)               22650     \n",
      "_________________________________________________________________\n",
      "dense_3 (Dense)              (None, 150)               22650     \n",
      "_________________________________________________________________\n",
      "dense_4 (Dense)              (None, 150)               22650     \n",
      "_________________________________________________________________\n",
      "dense_5 (Dense)              (None, 10)                1510      \n",
      "=================================================================\n",
      "Total params: 3,467,260\n",
      "Trainable params: 3,467,260\n",
      "Non-trainable params: 0\n",
      "_________________________________________________________________\n"
     ]
    }
   ],
   "source": [
    "# Function to create model, required for KerasClassifier\n",
    "\n",
    "\n",
    "model = Sequential()\n",
    "model.add(Flatten(input_shape=(150,150)))\n",
    "model.add(Dense(150, input_dim=22500, activation='relu'))\n",
    "model.add(Dense(150, activation='relu'))\n",
    "model.add(Dense(150, activation='relu'))\n",
    "model.add(Dense(150, activation='relu'))\n",
    "model.add(Dense(150, activation='relu'))\n",
    "model.add(Dense(10, activation='softmax'))\n",
    "model.compile(loss='categorical_crossentropy', optimizer='adam', metrics=['accuracy'])\n",
    "model.summary()"
   ]
  },
  {
   "cell_type": "code",
   "execution_count": null,
   "id": "ff81ce09",
   "metadata": {},
   "outputs": [
    {
     "name": "stderr",
     "output_type": "stream",
     "text": [
      "/home/faraz/.local/lib/python3.6/site-packages/keras/engine/training.py:1972: UserWarning: `Model.fit_generator` is deprecated and will be removed in a future version. Please use `Model.fit`, which supports generators.\n",
      "  warnings.warn('`Model.fit_generator` is deprecated and '\n"
     ]
    },
    {
     "name": "stdout",
     "output_type": "stream",
     "text": [
      "Epoch 1/500\n",
      "WARNING:tensorflow:Model was constructed with shape (None, 150, 150) for input KerasTensor(type_spec=TensorSpec(shape=(None, 150, 150), dtype=tf.float32, name='flatten_input'), name='flatten_input', description=\"created by layer 'flatten_input'\"), but it was called on an input with incompatible shape (None, None, None, None).\n",
      "WARNING:tensorflow:Model was constructed with shape (None, 150, 150) for input KerasTensor(type_spec=TensorSpec(shape=(None, 150, 150), dtype=tf.float32, name='flatten_input'), name='flatten_input', description=\"created by layer 'flatten_input'\"), but it was called on an input with incompatible shape (None, None, None, None).\n",
      "25/25 [==============================] - ETA: 0s - loss: 2.8971 - accuracy: 0.1138WARNING:tensorflow:Model was constructed with shape (None, 150, 150) for input KerasTensor(type_spec=TensorSpec(shape=(None, 150, 150), dtype=tf.float32, name='flatten_input'), name='flatten_input', description=\"created by layer 'flatten_input'\"), but it was called on an input with incompatible shape (None, None, None, None).\n",
      "25/25 [==============================] - 2s 73ms/step - loss: 2.8971 - accuracy: 0.1138 - val_loss: 2.3364 - val_accuracy: 0.1458\n",
      "Epoch 2/500\n",
      "25/25 [==============================] - 2s 74ms/step - loss: 2.3022 - accuracy: 0.1312 - val_loss: 2.1604 - val_accuracy: 0.1562\n",
      "Epoch 3/500\n",
      "25/25 [==============================] - 2s 69ms/step - loss: 2.2662 - accuracy: 0.1562 - val_loss: 2.2767 - val_accuracy: 0.0885\n",
      "Epoch 4/500\n",
      "25/25 [==============================] - 2s 76ms/step - loss: 2.2031 - accuracy: 0.1813 - val_loss: 2.0385 - val_accuracy: 0.2292\n",
      "Epoch 5/500\n",
      "25/25 [==============================] - 2s 70ms/step - loss: 2.2184 - accuracy: 0.1725 - val_loss: 2.0593 - val_accuracy: 0.2188\n",
      "Epoch 6/500\n",
      "25/25 [==============================] - 2s 65ms/step - loss: 2.2079 - accuracy: 0.1700 - val_loss: 2.0969 - val_accuracy: 0.2188\n",
      "Epoch 7/500\n",
      "25/25 [==============================] - 2s 66ms/step - loss: 2.1665 - accuracy: 0.1912 - val_loss: 2.0723 - val_accuracy: 0.1719\n",
      "Epoch 8/500\n",
      "25/25 [==============================] - 2s 65ms/step - loss: 2.1582 - accuracy: 0.1750 - val_loss: 1.9614 - val_accuracy: 0.2240\n",
      "Epoch 9/500\n",
      "25/25 [==============================] - 2s 62ms/step - loss: 2.0678 - accuracy: 0.2275 - val_loss: 1.8737 - val_accuracy: 0.3333\n",
      "Epoch 10/500\n",
      "25/25 [==============================] - 2s 74ms/step - loss: 2.1146 - accuracy: 0.2013 - val_loss: 1.9970 - val_accuracy: 0.2552\n",
      "Epoch 11/500\n",
      "25/25 [==============================] - 2s 70ms/step - loss: 2.0847 - accuracy: 0.2237 - val_loss: 1.8912 - val_accuracy: 0.2292\n",
      "Epoch 12/500\n",
      "25/25 [==============================] - 2s 77ms/step - loss: 2.0700 - accuracy: 0.2338 - val_loss: 1.9146 - val_accuracy: 0.2917\n",
      "Epoch 13/500\n",
      "25/25 [==============================] - 2s 66ms/step - loss: 2.0466 - accuracy: 0.2387 - val_loss: 1.8201 - val_accuracy: 0.3594\n",
      "Epoch 14/500\n",
      "25/25 [==============================] - 2s 73ms/step - loss: 2.0113 - accuracy: 0.2550 - val_loss: 1.6921 - val_accuracy: 0.3281\n",
      "Epoch 15/500\n",
      "25/25 [==============================] - 2s 76ms/step - loss: 1.9336 - accuracy: 0.2937 - val_loss: 1.6593 - val_accuracy: 0.4427\n",
      "Epoch 16/500\n",
      "25/25 [==============================] - 2s 68ms/step - loss: 1.9460 - accuracy: 0.2625 - val_loss: 1.7825 - val_accuracy: 0.3802\n",
      "Epoch 17/500\n",
      "25/25 [==============================] - 2s 63ms/step - loss: 1.8507 - accuracy: 0.3100 - val_loss: 1.5428 - val_accuracy: 0.4896\n",
      "Epoch 18/500\n",
      "25/25 [==============================] - 2s 64ms/step - loss: 1.8989 - accuracy: 0.2750 - val_loss: 1.5552 - val_accuracy: 0.4635\n",
      "Epoch 19/500\n",
      "25/25 [==============================] - 2s 69ms/step - loss: 1.8637 - accuracy: 0.3000 - val_loss: 1.5068 - val_accuracy: 0.4688\n",
      "Epoch 20/500\n",
      "25/25 [==============================] - 2s 70ms/step - loss: 1.8582 - accuracy: 0.3038 - val_loss: 1.5303 - val_accuracy: 0.4167\n",
      "Epoch 21/500\n",
      "25/25 [==============================] - 2s 66ms/step - loss: 1.7842 - accuracy: 0.3438 - val_loss: 1.5126 - val_accuracy: 0.4740\n",
      "Epoch 22/500\n",
      "25/25 [==============================] - 2s 66ms/step - loss: 1.8829 - accuracy: 0.3000 - val_loss: 1.4042 - val_accuracy: 0.5781\n",
      "Epoch 23/500\n",
      "25/25 [==============================] - 2s 70ms/step - loss: 1.7654 - accuracy: 0.3363 - val_loss: 1.3424 - val_accuracy: 0.4844\n",
      "Epoch 24/500\n",
      "25/25 [==============================] - 2s 66ms/step - loss: 1.7367 - accuracy: 0.3675 - val_loss: 1.3992 - val_accuracy: 0.4948\n",
      "Epoch 25/500\n",
      "25/25 [==============================] - 2s 70ms/step - loss: 1.7355 - accuracy: 0.3575 - val_loss: 1.4125 - val_accuracy: 0.5208\n",
      "Epoch 26/500\n",
      "25/25 [==============================] - 2s 65ms/step - loss: 1.7434 - accuracy: 0.3338 - val_loss: 1.4485 - val_accuracy: 0.4792\n",
      "Epoch 27/500\n",
      "25/25 [==============================] - 2s 68ms/step - loss: 1.7301 - accuracy: 0.3587 - val_loss: 1.3965 - val_accuracy: 0.4740\n",
      "Epoch 28/500\n",
      "25/25 [==============================] - 2s 74ms/step - loss: 1.7241 - accuracy: 0.3550 - val_loss: 1.4194 - val_accuracy: 0.4375\n",
      "Epoch 29/500\n",
      "25/25 [==============================] - 2s 65ms/step - loss: 1.7762 - accuracy: 0.3438 - val_loss: 1.6554 - val_accuracy: 0.3438\n",
      "Epoch 30/500\n",
      "25/25 [==============================] - 2s 67ms/step - loss: 1.7107 - accuracy: 0.3638 - val_loss: 1.3922 - val_accuracy: 0.5208\n",
      "Epoch 31/500\n",
      "25/25 [==============================] - 2s 71ms/step - loss: 1.7366 - accuracy: 0.3562 - val_loss: 1.3251 - val_accuracy: 0.5521\n",
      "Epoch 32/500\n",
      "25/25 [==============================] - 2s 64ms/step - loss: 1.6565 - accuracy: 0.4025 - val_loss: 1.2468 - val_accuracy: 0.4948\n",
      "Epoch 33/500\n",
      "25/25 [==============================] - 2s 67ms/step - loss: 1.6584 - accuracy: 0.3738 - val_loss: 1.2883 - val_accuracy: 0.5521\n",
      "Epoch 34/500\n",
      "25/25 [==============================] - 2s 64ms/step - loss: 1.6982 - accuracy: 0.3787 - val_loss: 1.4318 - val_accuracy: 0.5000\n",
      "Epoch 35/500\n",
      "25/25 [==============================] - 2s 64ms/step - loss: 1.6808 - accuracy: 0.3775 - val_loss: 1.3158 - val_accuracy: 0.5260\n",
      "Epoch 36/500\n",
      "25/25 [==============================] - 2s 68ms/step - loss: 1.7176 - accuracy: 0.3525 - val_loss: 1.5548 - val_accuracy: 0.3802\n",
      "Epoch 37/500\n",
      "25/25 [==============================] - 2s 70ms/step - loss: 1.6873 - accuracy: 0.3862 - val_loss: 1.3458 - val_accuracy: 0.4583\n",
      "Epoch 38/500\n",
      "25/25 [==============================] - 2s 67ms/step - loss: 1.6121 - accuracy: 0.3900 - val_loss: 1.3158 - val_accuracy: 0.5365\n",
      "Epoch 39/500\n",
      "25/25 [==============================] - 2s 66ms/step - loss: 1.6554 - accuracy: 0.3950 - val_loss: 1.2244 - val_accuracy: 0.5469\n",
      "Epoch 40/500\n",
      "25/25 [==============================] - 2s 68ms/step - loss: 1.6324 - accuracy: 0.3775 - val_loss: 1.4020 - val_accuracy: 0.4479\n",
      "Epoch 41/500\n",
      "25/25 [==============================] - 2s 69ms/step - loss: 1.6313 - accuracy: 0.4025 - val_loss: 1.3804 - val_accuracy: 0.4219\n",
      "Epoch 42/500\n",
      "25/25 [==============================] - 2s 69ms/step - loss: 1.6640 - accuracy: 0.3725 - val_loss: 1.3165 - val_accuracy: 0.5000\n",
      "Epoch 43/500\n",
      "25/25 [==============================] - 2s 68ms/step - loss: 1.6077 - accuracy: 0.4150 - val_loss: 1.2315 - val_accuracy: 0.5104\n",
      "Epoch 44/500\n",
      "25/25 [==============================] - 2s 65ms/step - loss: 1.6105 - accuracy: 0.4100 - val_loss: 1.4002 - val_accuracy: 0.5312\n",
      "Epoch 45/500\n",
      "16/25 [==================>...........] - ETA: 0s - loss: 1.6898 - accuracy: 0.3926"
     ]
    }
   ],
   "source": [
    "model.fit_generator(\n",
    "        train_generator,\n",
    "        steps_per_epoch=800 // 32,\n",
    "        epochs=500,\n",
    "        validation_data=test_generator,\n",
    "        validation_steps=200 // 32)\n",
    "model.save_weights('first_try.h5') "
   ]
  },
  {
   "cell_type": "code",
   "execution_count": null,
   "id": "8bc3711f",
   "metadata": {},
   "outputs": [],
   "source": []
  }
 ],
 "metadata": {
  "kernelspec": {
   "display_name": "Python 3",
   "language": "python",
   "name": "python3"
  },
  "language_info": {
   "codemirror_mode": {
    "name": "ipython",
    "version": 3
   },
   "file_extension": ".py",
   "mimetype": "text/x-python",
   "name": "python",
   "nbconvert_exporter": "python",
   "pygments_lexer": "ipython3",
   "version": "3.6.9"
  }
 },
 "nbformat": 4,
 "nbformat_minor": 5
}
