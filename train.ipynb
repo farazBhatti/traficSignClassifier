{
 "cells": [
  {
   "cell_type": "code",
   "execution_count": 1,
   "id": "241f748f",
   "metadata": {},
   "outputs": [],
   "source": [
    "from keras.preprocessing.image import ImageDataGenerator"
   ]
  },
  {
   "cell_type": "code",
   "execution_count": 2,
   "id": "630ce7a3",
   "metadata": {},
   "outputs": [],
   "source": [
    "train_datagen = ImageDataGenerator(\n",
    "        rotation_range=40,\n",
    "        width_shift_range=0.2,\n",
    "        height_shift_range=0.2,\n",
    "        rescale=1./255,\n",
    "        shear_range=0.2,\n",
    "        zoom_range=0.2,\n",
    "        horizontal_flip=True,\n",
    "        fill_mode='nearest')"
   ]
  },
  {
   "cell_type": "code",
   "execution_count": 3,
   "id": "d450ed42",
   "metadata": {},
   "outputs": [
    {
     "name": "stdout",
     "output_type": "stream",
     "text": [
      "Found 800 images belonging to 10 classes.\n",
      "Found 200 images belonging to 10 classes.\n"
     ]
    }
   ],
   "source": [
    "test_datagen = ImageDataGenerator(rescale=1./255)\n",
    "\n",
    "\n",
    "\n",
    "train_generator = train_datagen.flow_from_directory(\n",
    "        'dataset/train',  # this is the target directory\n",
    "        target_size=(150, 150),  # all images will be resized to 150x150\n",
    "        batch_size=32,\n",
    "        class_mode='categorical')  # since we use binary_crossentropy loss, we need binary labels\n",
    "\n",
    "# this is a similar generator, for validation data\n",
    "test_generator = test_datagen.flow_from_directory(\n",
    "        'dataset/test',\n",
    "        target_size=(150, 150),\n",
    "        batch_size=32,\n",
    "        class_mode='categorical')\n"
   ]
  },
  {
   "cell_type": "code",
   "execution_count": 4,
   "id": "1c33e155",
   "metadata": {},
   "outputs": [
    {
     "name": "stdout",
     "output_type": "stream",
     "text": [
      "Model: \"vgg16\"\n",
      "_________________________________________________________________\n",
      "Layer (type)                 Output Shape              Param #   \n",
      "=================================================================\n",
      "input_1 (InputLayer)         [(None, 150, 150, 3)]     0         \n",
      "_________________________________________________________________\n",
      "block1_conv1 (Conv2D)        (None, 150, 150, 64)      1792      \n",
      "_________________________________________________________________\n",
      "block1_conv2 (Conv2D)        (None, 150, 150, 64)      36928     \n",
      "_________________________________________________________________\n",
      "block1_pool (MaxPooling2D)   (None, 75, 75, 64)        0         \n",
      "_________________________________________________________________\n",
      "block2_conv1 (Conv2D)        (None, 75, 75, 128)       73856     \n",
      "_________________________________________________________________\n",
      "block2_conv2 (Conv2D)        (None, 75, 75, 128)       147584    \n",
      "_________________________________________________________________\n",
      "block2_pool (MaxPooling2D)   (None, 37, 37, 128)       0         \n",
      "_________________________________________________________________\n",
      "block3_conv1 (Conv2D)        (None, 37, 37, 256)       295168    \n",
      "_________________________________________________________________\n",
      "block3_conv2 (Conv2D)        (None, 37, 37, 256)       590080    \n",
      "_________________________________________________________________\n",
      "block3_conv3 (Conv2D)        (None, 37, 37, 256)       590080    \n",
      "_________________________________________________________________\n",
      "block3_pool (MaxPooling2D)   (None, 18, 18, 256)       0         \n",
      "_________________________________________________________________\n",
      "block4_conv1 (Conv2D)        (None, 18, 18, 512)       1180160   \n",
      "_________________________________________________________________\n",
      "block4_conv2 (Conv2D)        (None, 18, 18, 512)       2359808   \n",
      "_________________________________________________________________\n",
      "block4_conv3 (Conv2D)        (None, 18, 18, 512)       2359808   \n",
      "_________________________________________________________________\n",
      "block4_pool (MaxPooling2D)   (None, 9, 9, 512)         0         \n",
      "_________________________________________________________________\n",
      "block5_conv1 (Conv2D)        (None, 9, 9, 512)         2359808   \n",
      "_________________________________________________________________\n",
      "block5_conv2 (Conv2D)        (None, 9, 9, 512)         2359808   \n",
      "_________________________________________________________________\n",
      "block5_conv3 (Conv2D)        (None, 9, 9, 512)         2359808   \n",
      "_________________________________________________________________\n",
      "block5_pool (MaxPooling2D)   (None, 4, 4, 512)         0         \n",
      "=================================================================\n",
      "Total params: 14,714,688\n",
      "Trainable params: 0\n",
      "Non-trainable params: 14,714,688\n",
      "_________________________________________________________________\n"
     ]
    }
   ],
   "source": [
    "# example of loading the vgg16 model\n",
    "from keras.applications.vgg16 import VGG16\n",
    "# load model\n",
    "model = VGG16(weights=\"imagenet\", include_top=False, input_shape=(150,150,3))\n",
    "model.trainable = False ## Not trainable weights\n",
    "\n",
    "# summarize the model\n",
    "model.summary()"
   ]
  },
  {
   "cell_type": "code",
   "execution_count": 5,
   "id": "6f4be69a",
   "metadata": {},
   "outputs": [],
   "source": [
    "from keras import layers, models\n",
    "\n",
    "flatten_layer = layers.Flatten()\n",
    "dense_layer_1 = layers.Dense(50, activation='relu')\n",
    "dense_layer_2 = layers.Dense(20, activation='relu')\n",
    "prediction_layer = layers.Dense(10, activation='softmax')\n",
    "\n",
    "\n",
    "model = models.Sequential([\n",
    "    model,\n",
    "    flatten_layer,\n",
    "    dense_layer_1,\n",
    "    dense_layer_2,\n",
    "    prediction_layer\n",
    "])"
   ]
  },
  {
   "cell_type": "code",
   "execution_count": 6,
   "id": "90437df8",
   "metadata": {},
   "outputs": [],
   "source": [
    "\n",
    "from keras.callbacks import EarlyStopping\n",
    "\n",
    "model.compile(\n",
    "    optimizer='adam',\n",
    "    loss='categorical_crossentropy',\n",
    "    metrics=['accuracy'],\n",
    ")\n"
   ]
  },
  {
   "cell_type": "code",
   "execution_count": null,
   "id": "31830dfe",
   "metadata": {},
   "outputs": [
    {
     "name": "stderr",
     "output_type": "stream",
     "text": [
      "/home/faraz/.local/lib/python3.6/site-packages/keras/engine/training.py:1972: UserWarning: `Model.fit_generator` is deprecated and will be removed in a future version. Please use `Model.fit`, which supports generators.\n",
      "  warnings.warn('`Model.fit_generator` is deprecated and '\n"
     ]
    },
    {
     "name": "stdout",
     "output_type": "stream",
     "text": [
      "Epoch 1/50\n",
      "25/25 [==============================] - 62s 2s/step - loss: 1.4682 - accuracy: 0.4938 - val_loss: 0.5630 - val_accuracy: 0.9062\n",
      "Epoch 2/50\n",
      "25/25 [==============================] - 75s 3s/step - loss: 0.4279 - accuracy: 0.8863 - val_loss: 0.2461 - val_accuracy: 0.9375\n",
      "Epoch 3/50\n",
      "25/25 [==============================] - 70s 3s/step - loss: 0.2148 - accuracy: 0.9463 - val_loss: 0.1810 - val_accuracy: 0.9271\n",
      "Epoch 4/50\n",
      "25/25 [==============================] - 57s 2s/step - loss: 0.1428 - accuracy: 0.9650 - val_loss: 0.1292 - val_accuracy: 0.9479\n",
      "Epoch 5/50\n",
      "25/25 [==============================] - 51s 2s/step - loss: 0.1186 - accuracy: 0.9688 - val_loss: 0.1307 - val_accuracy: 0.9688\n",
      "Epoch 6/50\n",
      "25/25 [==============================] - 51s 2s/step - loss: 0.0887 - accuracy: 0.9787 - val_loss: 0.0993 - val_accuracy: 0.9740\n",
      "Epoch 7/50\n",
      "25/25 [==============================] - 55s 2s/step - loss: 0.0652 - accuracy: 0.9887 - val_loss: 0.0921 - val_accuracy: 0.9792\n",
      "Epoch 8/50\n",
      "25/25 [==============================] - 54s 2s/step - loss: 0.0667 - accuracy: 0.9825 - val_loss: 0.1007 - val_accuracy: 0.9635\n",
      "Epoch 9/50\n",
      "25/25 [==============================] - 52s 2s/step - loss: 0.0493 - accuracy: 0.9900 - val_loss: 0.1181 - val_accuracy: 0.9583\n",
      "Epoch 10/50\n",
      "25/25 [==============================] - 50s 2s/step - loss: 0.0702 - accuracy: 0.9775 - val_loss: 0.1127 - val_accuracy: 0.9479\n",
      "Epoch 11/50\n",
      "25/25 [==============================] - 50s 2s/step - loss: 0.0679 - accuracy: 0.9800 - val_loss: 0.0958 - val_accuracy: 0.9844\n",
      "Epoch 12/50\n",
      "25/25 [==============================] - 49s 2s/step - loss: 0.0412 - accuracy: 0.9862 - val_loss: 0.1043 - val_accuracy: 0.9792\n",
      "Epoch 13/50\n",
      "25/25 [==============================] - 53s 2s/step - loss: 0.0285 - accuracy: 0.9975 - val_loss: 0.0969 - val_accuracy: 0.9792\n",
      "Epoch 14/50\n",
      "22/25 [=========================>....] - ETA: 4s - loss: 0.0349 - accuracy: 0.9915"
     ]
    }
   ],
   "source": [
    "model.fit_generator(\n",
    "        train_generator,\n",
    "        steps_per_epoch=800 // 32,\n",
    "        epochs=50,\n",
    "        validation_data=test_generator,\n",
    "        validation_steps=200 // 32)\n",
    "model.save_weights('first_try.h5')  # always save your weights after training or during training"
   ]
  },
  {
   "cell_type": "code",
   "execution_count": null,
   "id": "099669b5",
   "metadata": {},
   "outputs": [],
   "source": []
  },
  {
   "cell_type": "code",
   "execution_count": null,
   "id": "0e2c47e6",
   "metadata": {},
   "outputs": [],
   "source": []
  },
  {
   "cell_type": "code",
   "execution_count": null,
   "id": "ff81ce09",
   "metadata": {},
   "outputs": [],
   "source": []
  }
 ],
 "metadata": {
  "kernelspec": {
   "display_name": "Python 3",
   "language": "python",
   "name": "python3"
  },
  "language_info": {
   "codemirror_mode": {
    "name": "ipython",
    "version": 3
   },
   "file_extension": ".py",
   "mimetype": "text/x-python",
   "name": "python",
   "nbconvert_exporter": "python",
   "pygments_lexer": "ipython3",
   "version": "3.6.9"
  }
 },
 "nbformat": 4,
 "nbformat_minor": 5
}
