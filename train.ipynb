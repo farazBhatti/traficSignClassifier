{
 "cells": [
  {
   "cell_type": "markdown",
   "id": "ee33898e",
   "metadata": {},
   "source": [
    "# Extract HOG Features"
   ]
  },
  {
   "cell_type": "code",
   "execution_count": 1,
   "id": "737a7440",
   "metadata": {},
   "outputs": [
    {
     "name": "stdout",
     "output_type": "stream",
     "text": [
      "Processing Folder =  00004\n",
      "Processing Folder =  00002\n",
      "Processing Folder =  00006\n",
      "Processing Folder =  00001\n",
      "Processing Folder =  00007\n",
      "Processing Folder =  00008\n",
      "Processing Folder =  00003\n",
      "Processing Folder =  00005\n",
      "Processing Folder =  00010\n",
      "Processing Folder =  00009\n"
     ]
    }
   ],
   "source": [
    "import os\n",
    "import numpy as np\n",
    "import cv2\n",
    "from sklearn import svm \n",
    "import numpy as np \n",
    "from skimage.feature import hog \n",
    "trainKeyposints = []\n",
    "trainDescriptors = []\n",
    "labels = []\n",
    "orb = cv2.ORB_create()\n",
    "\n",
    "hog_train_data = [] \n",
    "# hog = cv2.HOGDescriptor()\n",
    "\n",
    "\n",
    "for folder in os.listdir(\"dataset/train/\"):\n",
    "    print(\"Processing Folder = \",folder)\n",
    "    \n",
    "    for file in os.listdir(\"dataset/train/\" + folder + \"/\"):\n",
    "\n",
    "        name = 'dataset/train/'+ folder +\"/\" + file\n",
    "\n",
    "        train_img = cv2.imread('dataset/train/'+ folder +\"/\" + file)\n",
    "       \n",
    "        if train_img is not None:\n",
    "\n",
    "            \n",
    "            \n",
    "            dim = (32, 32)\n",
    "\n",
    "            # resize image\n",
    "            img = cv2.resize(train_img, dim, interpolation = cv2.INTER_AREA)\n",
    "\n",
    "    #         here fd is the new feature descriptor for your image \n",
    "            fd, hog_image = hog(img, orientations=9, pixels_per_cell=(8, 8), \n",
    "                        cells_per_block=(2, 2), visualize=True, multichannel=True)\n",
    "    #         for visualisation of the hog features \n",
    "    #         plt.imshow(hog_img) \n",
    "            hog_train_data.append(fd) \n",
    "\n",
    "    #         train_img_bw = cv2.cvtColor(train_img, cv2.COLOR_BGR2GRAY)\n",
    "\n",
    "\n",
    "    #         Keypoints, Descriptors = orb.detectAndCompute(train_img_bw,None)\n",
    "    #         if Descriptors is not None:\n",
    "    #             print(Descriptors.shape)\n",
    "    #             trainDescriptors.append(Descriptors)#.flatten())\n",
    "    #             trainKeyposints.append(Keypoints)\n",
    "            labels.append(int(folder))\n",
    "    # #             print(len(Descriptors.flatten()))\n",
    "    #         else: \n",
    "    #             print(\"NONE Descriptor\")\n",
    "    #             pass\n",
    "        else:\n",
    "            print(\"Error Opening image\")\n",
    "        pass\n"
   ]
  },
  {
   "cell_type": "markdown",
   "id": "ebbf9fca",
   "metadata": {},
   "source": [
    "# Train SVM Classifier"
   ]
  },
  {
   "cell_type": "code",
   "execution_count": 2,
   "id": "15b3ce5a",
   "metadata": {},
   "outputs": [
    {
     "data": {
      "text/plain": [
       "LinearSVC()"
      ]
     },
     "execution_count": 2,
     "metadata": {},
     "output_type": "execute_result"
    }
   ],
   "source": [
    "#convert it to np array \n",
    "hog_train_data = np.array(hog_train_data) \n",
    "#one-vs-all SVM linear classifier \n",
    "lin_clf = svm.LinearSVC() \n",
    "#train the classifier using new hog features and training labels \n",
    "lin_clf.fit(hog_train_data, labels) \n",
    "#likewise extract features for your testing data and test the classifier using the new features "
   ]
  },
  {
   "cell_type": "markdown",
   "id": "7080ca4d",
   "metadata": {},
   "source": [
    "# Testing trained SVM on test images"
   ]
  },
  {
   "cell_type": "code",
   "execution_count": 19,
   "id": "c4b3ed14",
   "metadata": {},
   "outputs": [
    {
     "name": "stdout",
     "output_type": "stream",
     "text": [
      "Processing Folder =  00004\n",
      "Pred =  4\n",
      "Label =  4\n",
      "Pred =  4\n",
      "Label =  4\n",
      "Pred =  4\n",
      "Label =  4\n",
      "Pred =  4\n",
      "Label =  4\n",
      "Pred =  4\n",
      "Label =  4\n",
      "Pred =  4\n",
      "Label =  4\n",
      "Processing Folder =  00002\n",
      "Pred =  2\n",
      "Label =  2\n",
      "Pred =  2\n",
      "Label =  2\n",
      "Pred =  2\n",
      "Label =  2\n",
      "Pred =  2\n",
      "Label =  2\n",
      "Pred =  2\n",
      "Label =  2\n",
      "Pred =  2\n",
      "Label =  2\n",
      "Processing Folder =  00006\n",
      "Pred =  6\n",
      "Label =  6\n",
      "Pred =  6\n",
      "Label =  6\n",
      "Pred =  6\n",
      "Label =  6\n",
      "Pred =  6\n",
      "Label =  6\n",
      "Pred =  6\n",
      "Label =  6\n",
      "Processing Folder =  00001\n",
      "Pred =  1\n",
      "Label =  1\n",
      "Pred =  1\n",
      "Label =  1\n",
      "Pred =  1\n",
      "Label =  1\n",
      "Pred =  1\n",
      "Label =  1\n",
      "Pred =  1\n",
      "Label =  1\n",
      "Pred =  1\n",
      "Label =  1\n",
      "Processing Folder =  00007\n",
      "Pred =  7\n",
      "Label =  7\n",
      "Pred =  7\n",
      "Label =  7\n",
      "Pred =  7\n",
      "Label =  7\n",
      "Pred =  7\n",
      "Label =  7\n",
      "Pred =  7\n",
      "Label =  7\n",
      "Processing Folder =  00008\n",
      "Pred =  8\n",
      "Label =  8\n",
      "Pred =  8\n",
      "Label =  8\n",
      "Pred =  8\n",
      "Label =  8\n",
      "Pred =  8\n",
      "Label =  8\n",
      "Pred =  8\n",
      "Label =  8\n",
      "Processing Folder =  00003\n",
      "Pred =  3\n",
      "Label =  3\n",
      "Pred =  3\n",
      "Label =  3\n",
      "Pred =  3\n",
      "Label =  3\n",
      "Pred =  3\n",
      "Label =  3\n",
      "Pred =  3\n",
      "Label =  3\n",
      "Pred =  3\n",
      "Label =  3\n",
      "Pred =  3\n",
      "Label =  3\n",
      "Pred =  8\n",
      "Label =  3\n",
      "Processing Folder =  00005\n",
      "Pred =  5\n",
      "Label =  5\n",
      "Pred =  5\n",
      "Label =  5\n",
      "Pred =  5\n",
      "Label =  5\n",
      "Pred =  5\n",
      "Label =  5\n",
      "Processing Folder =  00010\n",
      "Pred =  10\n",
      "Label =  10\n",
      "Pred =  10\n",
      "Label =  10\n",
      "Pred =  10\n",
      "Label =  10\n",
      "Pred =  10\n",
      "Label =  10\n",
      "Pred =  10\n",
      "Label =  10\n",
      "Processing Folder =  00009\n",
      "Pred =  9\n",
      "Label =  9\n",
      "Pred =  9\n",
      "Label =  9\n",
      "Pred =  9\n",
      "Label =  9\n",
      "Pred =  9\n",
      "Label =  9\n",
      "Pred =  9\n",
      "Label =  9\n",
      "Pred =  9\n",
      "Label =  9\n"
     ]
    }
   ],
   "source": [
    "dirct = \"dataset/test/\"\n",
    "\n",
    "\n",
    "tp = 0 # True Positive\n",
    "fp = 0 # False Positive\n",
    "fn = 0 # False Negative\n",
    "\n",
    "\n",
    "for folder in os.listdir(dirct):\n",
    "    print(\"Processing Folder = \",folder)\n",
    "    \n",
    "    for file in os.listdir(dirct + folder + \"/\"):\n",
    "\n",
    "        name = dirct+ folder +\"/\" + file\n",
    "\n",
    "        test_img = cv2.imread(dirct+ folder +\"/\" + file)\n",
    "       \n",
    "        if test_img is not None:\n",
    "\n",
    "            \n",
    "            \n",
    "            dim = (32, 32)\n",
    "\n",
    "            # resize image\n",
    "            img = cv2.resize(test_img, dim, interpolation = cv2.INTER_AREA)\n",
    "\n",
    "    #         here fd is the new feature descriptor for your image \n",
    "            fd, hog_image = hog(img, orientations=9, pixels_per_cell=(8, 8), \n",
    "                        cells_per_block=(2, 2), visualize=True, multichannel=True)\n",
    "\n",
    "            pred = lin_clf.predict([fd])\n",
    "            print(\"Pred = \",pred[0])\n",
    "            print(\"Label = \", int(folder))\n",
    "            if pred[0] == int(folder):\n",
    "                tp += 1\n",
    "            else:\n",
    "                fp += 1\n",
    "                fn += 1\n",
    "\n",
    "\n",
    "        else:\n",
    "            print(\"Error Opening image\")\n",
    "        pass"
   ]
  },
  {
   "cell_type": "markdown",
   "id": "cad8652d",
   "metadata": {},
   "source": [
    "# Performance Measures"
   ]
  },
  {
   "cell_type": "markdown",
   "id": "cfdb4e0d",
   "metadata": {},
   "source": [
    "## Precision"
   ]
  },
  {
   "cell_type": "code",
   "execution_count": 14,
   "id": "b2175049",
   "metadata": {},
   "outputs": [
    {
     "name": "stdout",
     "output_type": "stream",
     "text": [
      "Precision =  0.9821428571428571\n"
     ]
    }
   ],
   "source": [
    "precision = tp/(tp+fp)\n",
    "print(\"Precision = \", precision)"
   ]
  },
  {
   "cell_type": "code",
   "execution_count": 16,
   "id": "f72c57c3",
   "metadata": {},
   "outputs": [
    {
     "name": "stdout",
     "output_type": "stream",
     "text": [
      "Recall =  0.9821428571428571\n"
     ]
    }
   ],
   "source": [
    "recall = tp/(tp + fn)\n",
    "print(\"Recall = \", recall)"
   ]
  },
  {
   "cell_type": "code",
   "execution_count": 18,
   "id": "06e1ee63",
   "metadata": {},
   "outputs": [
    {
     "name": "stdout",
     "output_type": "stream",
     "text": [
      "F_1 Score =  0.9821428571428571\n"
     ]
    }
   ],
   "source": [
    "f_1 = 2*(precision * recall)/(precision + recall)\n",
    "print(\"F_1 Score = \", f_1)"
   ]
  },
  {
   "cell_type": "code",
   "execution_count": null,
   "id": "0736fe50",
   "metadata": {},
   "outputs": [],
   "source": []
  }
 ],
 "metadata": {
  "kernelspec": {
   "display_name": "Python 3",
   "language": "python",
   "name": "python3"
  },
  "language_info": {
   "codemirror_mode": {
    "name": "ipython",
    "version": 3
   },
   "file_extension": ".py",
   "mimetype": "text/x-python",
   "name": "python",
   "nbconvert_exporter": "python",
   "pygments_lexer": "ipython3",
   "version": "3.6.9"
  }
 },
 "nbformat": 4,
 "nbformat_minor": 5
}
