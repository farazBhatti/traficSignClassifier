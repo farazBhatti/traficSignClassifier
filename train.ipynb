{
 "cells": [
  {
   "cell_type": "markdown",
   "id": "ded8ddb5",
   "metadata": {},
   "source": [
    "# Extract HOG Features"
   ]
  },
  {
   "cell_type": "code",
   "execution_count": 20,
   "id": "737a7440",
   "metadata": {},
   "outputs": [
    {
     "name": "stdout",
     "output_type": "stream",
     "text": [
      "Processing Folder =  00004\n",
      "Processing Folder =  00002\n",
      "Processing Folder =  00006\n",
      "Processing Folder =  00001\n",
      "Processing Folder =  00007\n",
      "Processing Folder =  00008\n",
      "Processing Folder =  00003\n",
      "Processing Folder =  00005\n",
      "Processing Folder =  00010\n",
      "Processing Folder =  00009\n"
     ]
    }
   ],
   "source": [
    "import os\n",
    "import numpy as np\n",
    "import cv2\n",
    "from sklearn import svm \n",
    "import numpy as np \n",
    "from skimage.feature import hog \n",
    "\n",
    "labels = []\n",
    "\n",
    "hog_train_data = [] \n",
    "\n",
    "dirct = \"dataset/train/\"\n",
    "dim = (32, 32)\n",
    "\n",
    "for folder in os.listdir(dirct):\n",
    "    print(\"Processing Folder = \",folder)\n",
    "    \n",
    "    for file in os.listdir(dirct + folder + \"/\"):\n",
    "\n",
    "        name = dirct+ folder +\"/\" + file\n",
    "\n",
    "        train_img = cv2.imread(dirct+ folder +\"/\" + file)\n",
    "       \n",
    "        if train_img is not None:\n",
    "\n",
    "            # resize image\n",
    "            img = cv2.resize(train_img, dim, interpolation = cv2.INTER_AREA)\n",
    "\n",
    "            # here fd is the new feature descriptor for your image \n",
    "            hog_features, _ = hog(img, orientations=9, pixels_per_cell=(8, 8), \n",
    "                        cells_per_block=(2, 2), visualize=True, multichannel=True)\n",
    "\n",
    "            hog_train_data.append(hog_features) \n",
    "\n",
    "            labels.append(int(folder))\n",
    "\n",
    "        else:\n",
    "            print(\"Error Opening image\")\n",
    "        pass\n"
   ]
  },
  {
   "cell_type": "markdown",
   "id": "ef726b60",
   "metadata": {},
   "source": [
    "# Train SVM Classifier"
   ]
  },
  {
   "cell_type": "code",
   "execution_count": 22,
   "id": "ba741059",
   "metadata": {},
   "outputs": [
    {
     "data": {
      "text/plain": [
       "LinearSVC()"
      ]
     },
     "execution_count": 22,
     "metadata": {},
     "output_type": "execute_result"
    }
   ],
   "source": [
    "#convert it to np array \n",
    "hog_train_data = np.array(hog_train_data) \n",
    "#one-vs-all SVM linear classifier \n",
    "lin_clf = svm.LinearSVC() \n",
    "#train the classifier using new hog features and training labels \n",
    "lin_clf.fit(hog_train_data, labels)"
   ]
  },
  {
   "cell_type": "markdown",
   "id": "748fdb5d",
   "metadata": {},
   "source": [
    "# Testing trained SVM on test images"
   ]
  },
  {
   "cell_type": "code",
   "execution_count": 23,
   "id": "b875e03f",
   "metadata": {},
   "outputs": [
    {
     "name": "stdout",
     "output_type": "stream",
     "text": [
      "Processing Folder =  00004\n",
      "Pred =  4\n",
      "Label =  4\n",
      "Pred =  4\n",
      "Label =  4\n",
      "Pred =  4\n",
      "Label =  4\n",
      "Pred =  4\n",
      "Label =  4\n",
      "Pred =  4\n",
      "Label =  4\n",
      "Pred =  4\n",
      "Label =  4\n",
      "Processing Folder =  00002\n",
      "Pred =  2\n",
      "Label =  2\n",
      "Pred =  2\n",
      "Label =  2\n",
      "Pred =  2\n",
      "Label =  2\n",
      "Pred =  2\n",
      "Label =  2\n",
      "Pred =  2\n",
      "Label =  2\n",
      "Pred =  2\n",
      "Label =  2\n",
      "Processing Folder =  00006\n",
      "Pred =  6\n",
      "Label =  6\n",
      "Pred =  6\n",
      "Label =  6\n",
      "Pred =  6\n",
      "Label =  6\n",
      "Pred =  6\n",
      "Label =  6\n",
      "Pred =  6\n",
      "Label =  6\n",
      "Processing Folder =  00001\n",
      "Pred =  1\n",
      "Label =  1\n",
      "Pred =  1\n",
      "Label =  1\n",
      "Pred =  1\n",
      "Label =  1\n",
      "Pred =  1\n",
      "Label =  1\n",
      "Pred =  1\n",
      "Label =  1\n",
      "Pred =  1\n",
      "Label =  1\n",
      "Processing Folder =  00007\n",
      "Pred =  7\n",
      "Label =  7\n",
      "Pred =  7\n",
      "Label =  7\n",
      "Pred =  7\n",
      "Label =  7\n",
      "Pred =  7\n",
      "Label =  7\n",
      "Pred =  7\n",
      "Label =  7\n",
      "Processing Folder =  00008\n",
      "Pred =  8\n",
      "Label =  8\n",
      "Pred =  8\n",
      "Label =  8\n",
      "Pred =  8\n",
      "Label =  8\n",
      "Pred =  8\n",
      "Label =  8\n",
      "Pred =  8\n",
      "Label =  8\n",
      "Processing Folder =  00003\n",
      "Pred =  3\n",
      "Label =  3\n",
      "Pred =  3\n",
      "Label =  3\n",
      "Pred =  3\n",
      "Label =  3\n",
      "Pred =  3\n",
      "Label =  3\n",
      "Pred =  3\n",
      "Label =  3\n",
      "Pred =  3\n",
      "Label =  3\n",
      "Pred =  3\n",
      "Label =  3\n",
      "Pred =  8\n",
      "Label =  3\n",
      "Processing Folder =  00005\n",
      "Pred =  5\n",
      "Label =  5\n",
      "Pred =  5\n",
      "Label =  5\n",
      "Pred =  5\n",
      "Label =  5\n",
      "Pred =  5\n",
      "Label =  5\n",
      "Processing Folder =  00010\n",
      "Pred =  10\n",
      "Label =  10\n",
      "Pred =  10\n",
      "Label =  10\n",
      "Pred =  10\n",
      "Label =  10\n",
      "Pred =  10\n",
      "Label =  10\n",
      "Pred =  10\n",
      "Label =  10\n",
      "Processing Folder =  00009\n",
      "Pred =  9\n",
      "Label =  9\n",
      "Pred =  9\n",
      "Label =  9\n",
      "Pred =  9\n",
      "Label =  9\n",
      "Pred =  9\n",
      "Label =  9\n",
      "Pred =  9\n",
      "Label =  9\n",
      "Pred =  9\n",
      "Label =  9\n"
     ]
    }
   ],
   "source": [
    "dirct = \"dataset/test/\"\n",
    "\n",
    "\n",
    "tp = 0 # True Positive\n",
    "fp = 0 # False Positive\n",
    "fn = 0 # False Negative\n",
    "\n",
    "\n",
    "for folder in os.listdir(dirct):\n",
    "    print(\"Processing Folder = \",folder)\n",
    "    \n",
    "    for file in os.listdir(dirct + folder + \"/\"):\n",
    "\n",
    "        name = dirct+ folder +\"/\" + file\n",
    "\n",
    "        test_img = cv2.imread(dirct+ folder +\"/\" + file)\n",
    "       \n",
    "        if test_img is not None:\n",
    "\n",
    "            \n",
    "            \n",
    "            dim = (32, 32)\n",
    "\n",
    "            # resize image\n",
    "            img = cv2.resize(test_img, dim, interpolation = cv2.INTER_AREA)\n",
    "\n",
    "    #         here fd is the new feature descriptor for your image \n",
    "            fd, hog_image = hog(img, orientations=9, pixels_per_cell=(8, 8), \n",
    "                        cells_per_block=(2, 2), visualize=True, multichannel=True)\n",
    "\n",
    "            pred = lin_clf.predict([fd])\n",
    "            print(\"Pred = \",pred[0])\n",
    "            print(\"Label = \", int(folder))\n",
    "            if pred[0] == int(folder):\n",
    "                tp += 1\n",
    "            else:\n",
    "                fp += 1\n",
    "                fn += 1\n",
    "\n",
    "\n",
    "        else:\n",
    "            print(\"Error Opening image\")\n",
    "        pass"
   ]
  },
  {
   "cell_type": "markdown",
   "id": "cb6efbff",
   "metadata": {},
   "source": [
    "# Performance Measures"
   ]
  },
  {
   "cell_type": "markdown",
   "id": "bae6752f",
   "metadata": {},
   "source": [
    "## Precision"
   ]
  },
  {
   "cell_type": "code",
   "execution_count": 24,
   "id": "26ccd631",
   "metadata": {},
   "outputs": [
    {
     "name": "stdout",
     "output_type": "stream",
     "text": [
      "Precision =  0.9821428571428571\n"
     ]
    }
   ],
   "source": [
    "precision = tp/(tp+fp)\n",
    "print(\"Precision = \", precision)"
   ]
  },
  {
   "cell_type": "code",
   "execution_count": 25,
   "id": "b35fec49",
   "metadata": {},
   "outputs": [
    {
     "name": "stdout",
     "output_type": "stream",
     "text": [
      "Recall =  0.9821428571428571\n"
     ]
    }
   ],
   "source": [
    "recall = tp/(tp + fn)\n",
    "print(\"Recall = \", recall)"
   ]
  },
  {
   "cell_type": "code",
   "execution_count": 26,
   "id": "90a5dca8",
   "metadata": {},
   "outputs": [
    {
     "name": "stdout",
     "output_type": "stream",
     "text": [
      "F_1 Score =  0.9821428571428571\n"
     ]
    }
   ],
   "source": [
    "f_1 = 2*(precision * recall)/(precision + recall)\n",
    "print(\"F_1 Score = \", f_1)"
   ]
  },
  {
   "cell_type": "code",
   "execution_count": null,
   "id": "9c472979",
   "metadata": {},
   "outputs": [],
   "source": []
  }
 ],
 "metadata": {
  "kernelspec": {
   "display_name": "Python 3",
   "language": "python",
   "name": "python3"
  },
  "language_info": {
   "codemirror_mode": {
    "name": "ipython",
    "version": 3
   },
   "file_extension": ".py",
   "mimetype": "text/x-python",
   "name": "python",
   "nbconvert_exporter": "python",
   "pygments_lexer": "ipython3",
   "version": "3.6.9"
  }
 },
 "nbformat": 4,
 "nbformat_minor": 5
}
